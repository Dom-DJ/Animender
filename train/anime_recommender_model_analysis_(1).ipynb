{
  "nbformat": 4,
  "nbformat_minor": 0,
  "metadata": {
    "colab": {
      "name": "anime-recommender-model-analysis (1).ipynb",
      "provenance": [],
      "include_colab_link": true
    },
    "kernelspec": {
      "display_name": "Python 3",
      "language": "python",
      "name": "python3"
    },
    "language_info": {
      "codemirror_mode": {
        "name": "ipython",
        "version": 3
      },
      "file_extension": ".py",
      "mimetype": "text/x-python",
      "name": "python",
      "nbconvert_exporter": "python",
      "pygments_lexer": "ipython3",
      "version": "3.7.10"
    }
  },
  "cells": [
    {
      "cell_type": "markdown",
      "metadata": {
        "id": "view-in-github",
        "colab_type": "text"
      },
      "source": [
        "<a href=\"https://colab.research.google.com/github/Dom-DJ/Animender/blob/main/anime_recommender_model_analysis_(1).ipynb\" target=\"_parent\"><img src=\"https://colab.research.google.com/assets/colab-badge.svg\" alt=\"Open In Colab\"/></a>"
      ]
    },
    {
      "cell_type": "markdown",
      "metadata": {
        "id": "oJ813c20j49v"
      },
      "source": [
        "# imports and packages"
      ]
    },
    {
      "cell_type": "markdown",
      "metadata": {
        "id": "i-b5wF61j49w"
      },
      "source": [
        "this is an anime recommender model. It looks at the anime you have previously finished and uses that as a sign that you liked them. Next it predicts one you may like based on that."
      ]
    },
    {
      "cell_type": "code",
      "metadata": {
        "id": "PiZlWX3mj49x"
      },
      "source": [
        "import numpy as np # linear algebra\n",
        "import json\n",
        "import pandas as pd # data processing, CSV file I/O (e.g. pd.read_csv)\n",
        "import tensorflow as tf\n",
        "import matplotlib.pyplot as plt\n",
        "import copy\n",
        "import pathlib\n",
        "import logging\n",
        "logging.getLogger(\"tensorflow\").setLevel(logging.DEBUG)"
      ],
      "execution_count": 8,
      "outputs": []
    },
    {
      "cell_type": "markdown",
      "metadata": {
        "id": "0X510UVvj49z"
      },
      "source": [
        "Not all of these are used but were utilised in previous versions and therefore I have kept them"
      ]
    },
    {
      "cell_type": "markdown",
      "metadata": {
        "id": "nK5tOKf2j49z"
      },
      "source": [
        "# getting the data"
      ]
    },
    {
      "cell_type": "code",
      "metadata": {
        "id": "WJBLS9dAj490"
      },
      "source": [
        "animecsv = pd.read_csv(\"./anime.csv\")\n",
        "ratingcsv = pd.read_csv(\"./rating_complete.csv\")"
      ],
      "execution_count": 9,
      "outputs": []
    },
    {
      "cell_type": "markdown",
      "metadata": {
        "id": "p7oPsG1xj490"
      },
      "source": [
        "* animecsv is used to filter animes by popularity and for data analysis.\n",
        "* ratingcsv is used to get what animes people have watched for training."
      ]
    },
    {
      "cell_type": "code",
      "metadata": {
        "id": "8_dVjfvdj490"
      },
      "source": [
        "ids = []\n",
        "\n",
        "for i in range(len(animecsv[\"MAL_ID\"])):\n",
        "    if animecsv[\"Popularity\"][i] < 1000 and animecsv[\"Popularity\"][i] > 0:\n",
        "        ids.append(animecsv[\"MAL_ID\"][i])"
      ],
      "execution_count": 10,
      "outputs": []
    },
    {
      "cell_type": "markdown",
      "metadata": {
        "id": "Zvz9L4M4j491"
      },
      "source": [
        "I only want the most popular through to the 1000th most popular. This is to minimise paramaters that would otherwise be much larger and also to avoid anomalies if the algorithm doesnt properly understand the anime due to a lack of samples"
      ]
    },
    {
      "cell_type": "code",
      "metadata": {
        "colab": {
          "base_uri": "https://localhost:8080/"
        },
        "id": "HEu64IyUj491",
        "outputId": "83dd2026-5ed3-403f-c76c-eaf850dd5241"
      },
      "source": [
        "id_to_num = {}\n",
        "\n",
        "for i in range(len(ids)):\n",
        "    id_to_num[ids[i]] = i\n",
        "    \n",
        "    \n",
        "l=0\n",
        "for i in id_to_num:\n",
        "    print(str(i) + \":\" + str(id_to_num[i]))\n",
        "    l+=1\n",
        "    if l == 5:\n",
        "        break\n",
        "        \n",
        "with open('data.txt', 'w') as outfile: # used in web app\n",
        "    data = {}\n",
        "    for i in id_to_num:\n",
        "        for j in range(len(animecsv[\"MAL_ID\"])):\n",
        "            if animecsv[\"MAL_ID\"][j] == i:\n",
        "                if animecsv[\"English name\"][j] != \"Unknown\":\n",
        "                    if animecsv[\"English name\"][j] in data.keys():\n",
        "                        data[str(i)] = id_to_num[i]\n",
        "                    else:\n",
        "                        data[animecsv[\"English name\"][j]] = id_to_num[i]\n",
        "                else:\n",
        "                    if animecsv[\"Name\"][j] in data.keys():\n",
        "                        data[str(i)] = id_to_num[i]\n",
        "                    else:\n",
        "                        data[animecsv[\"Name\"][j]] = id_to_num[i]                \n",
        "    json.dump([data], outfile) # above does not do all 1k"
      ],
      "execution_count": 11,
      "outputs": [
        {
          "output_type": "stream",
          "text": [
            "1:0\n",
            "5:1\n",
            "6:2\n",
            "16:3\n",
            "19:4\n"
          ],
          "name": "stdout"
        }
      ]
    },
    {
      "cell_type": "markdown",
      "metadata": {
        "id": "qH652V16j492"
      },
      "source": [
        "this is used for conversion between the 'id' used in the csv and the id I give it. This is because I do not use every anime"
      ]
    },
    {
      "cell_type": "code",
      "metadata": {
        "colab": {
          "base_uri": "https://localhost:8080/"
        },
        "id": "RSaXNvLCj492",
        "outputId": "dd255dbf-aaa4-4dfa-9ba4-2962ac13ad86"
      },
      "source": [
        "print(len(data))"
      ],
      "execution_count": 12,
      "outputs": [
        {
          "output_type": "stream",
          "text": [
            "1000\n"
          ],
          "name": "stdout"
        }
      ]
    },
    {
      "cell_type": "markdown",
      "metadata": {
        "id": "XnLmLUPHj493"
      },
      "source": [
        "# data analysis"
      ]
    },
    {
      "cell_type": "code",
      "metadata": {
        "colab": {
          "base_uri": "https://localhost:8080/"
        },
        "id": "QmszWhzyj493",
        "outputId": "d5be30dc-675c-46e2-adcf-badc6c7392d5"
      },
      "source": [
        "# the top 1000 animes\n",
        "animes1k = pd.DataFrame(columns=['anime_id', 'English name', 'Type', 'Source', 'Rating', 'Genres'])\n",
        "\n",
        "for i in range(len(animecsv[\"MAL_ID\"])):\n",
        "    if animecsv[\"Popularity\"][i] < 1000 and animecsv[\"Popularity\"][i] > 0:\n",
        "        \n",
        "        id = animecsv[\"MAL_ID\"][i]\n",
        "        name = animecsv[\"English name\"][i]\n",
        "        type = animecsv[\"Type\"][i]\n",
        "        source = animecsv[\"Source\"][i]\n",
        "        rating = animecsv[\"Rating\"][i]\n",
        "        genres =  animecsv[\"Genres\"][i].split(\", \")\n",
        "        \n",
        "        row = [id, name, type, source, rating, genres]\n",
        "                \n",
        "        temp = pd.DataFrame([row], columns=['anime_id', 'English name','Type', 'Source', 'Rating', 'Genres'])\n",
        "        animes1k = animes1k.append(temp, ignore_index=True)\n",
        "        \n",
        "print(\"1k\")\n",
        "        \n",
        "# the top 5000 animes\n",
        "animes5k = pd.DataFrame(columns=['anime_id', 'English name', 'Type', 'Source', 'Rating', 'Genres'])\n",
        "\n",
        "for i in range(len(animecsv[\"MAL_ID\"])):\n",
        "    if animecsv[\"Popularity\"][i] < 5000 and animecsv[\"Popularity\"][i] > 0:\n",
        "        \n",
        "        id = animecsv[\"MAL_ID\"][i]\n",
        "        name = animecsv[\"English name\"][i]\n",
        "        type = animecsv[\"Type\"][i]\n",
        "        source = animecsv[\"Source\"][i]\n",
        "        rating = animecsv[\"Rating\"][i]\n",
        "        genres =  animecsv[\"Genres\"][i].split(\", \")\n",
        "        \n",
        "        row = [id, name, type, source, rating, genres]\n",
        "                \n",
        "        temp = pd.DataFrame([row], columns=['anime_id', 'English name', 'Type', 'Source', 'Rating', 'Genres'])\n",
        "        animes5k = animes5k.append(temp, ignore_index=True)\n",
        "        \n",
        "print(\"5k\")\n",
        "        \n",
        "    \n",
        "# all of the animes\n",
        "animesall = pd.DataFrame(columns=['anime_id', 'English name', 'Type', 'Source', 'Rating', 'Genres'])\n",
        "\n",
        "for i in range(len(animecsv[\"MAL_ID\"])):\n",
        "    id = animecsv[\"MAL_ID\"][i]\n",
        "    name = animecsv[\"English name\"][i]\n",
        "    type = animecsv[\"Type\"][i]\n",
        "    source = animecsv[\"Source\"][i]\n",
        "    rating = animecsv[\"Rating\"][i]\n",
        "    genres =  animecsv[\"Genres\"][i].split(\", \")\n",
        "\n",
        "    row = [id, name, type, source, rating, genres]\n",
        "\n",
        "    temp = pd.DataFrame([row], columns=['anime_id', 'English name','Type', 'Source', 'Rating', 'Genres'])\n",
        "    animesall = animesall.append(temp, ignore_index=True)\n",
        "    \n",
        "print(\"all\")"
      ],
      "execution_count": 13,
      "outputs": [
        {
          "output_type": "stream",
          "text": [
            "1k\n",
            "5k\n",
            "all\n"
          ],
          "name": "stdout"
        }
      ]
    },
    {
      "cell_type": "markdown",
      "metadata": {
        "id": "8WzxT39Wj494"
      },
      "source": [
        "This has got info on the top 1000, 5000 and all animes. This is so I can see differences between them. I used the pandas dataframe format for several reasons. These being speed, memory and general ease of use"
      ]
    },
    {
      "cell_type": "markdown",
      "metadata": {
        "id": "JDuOjDohj497"
      },
      "source": [
        "# genres"
      ]
    },
    {
      "cell_type": "code",
      "metadata": {
        "colab": {
          "base_uri": "https://localhost:8080/",
          "height": 313
        },
        "id": "hVWOVi6Xj497",
        "outputId": "88e7e854-2a9f-46bd-8611-8591d1371c3c"
      },
      "source": [
        "# getting a list of all animes, i could have used the unique function in pandas however this is just as easy\n",
        "genres = []\n",
        "\n",
        "for i in animesall[\"Genres\"]:\n",
        "    for j in i:\n",
        "        genres.append(j)\n",
        "        \n",
        "genres = list(set(genres))\n",
        "\n",
        "#create a dict of all of the genres and how often they occur\n",
        "def encode(genre_list, genres_present):\n",
        "    full = {i:0 for i in genre_list}\n",
        "    for i in genres_present:\n",
        "        full[i] += 1\n",
        "    return full\n",
        "    \n",
        "# top 1000 animes\n",
        "genres1k = []\n",
        "\n",
        "for i in animes1k[\"Genres\"]: # all of the animes in one (1d) list from a 2d one. There are flatten functions however at the time of writing this seamed easier\n",
        "    for j in i:\n",
        "        genres1k.append(j)\n",
        "\n",
        "genres1k = encode(genres, genres1k)\n",
        "top71k = sorted(genres1k, key=genres1k.get, reverse=True)[:7] # getting the top 7, text fit best with this\n",
        "\n",
        "# top 5000 animes\n",
        "genres5k = []\n",
        "\n",
        "for i in animes5k[\"Genres\"]:\n",
        "    for j in i:\n",
        "        genres5k.append(j)\n",
        "\n",
        "genres5k = encode(genres, genres5k)\n",
        "top75k = sorted(genres5k, key=genres5k.get, reverse=True)[:7]\n",
        "\n",
        "# all animes\n",
        "genresall = []\n",
        "\n",
        "for i in animesall[\"Genres\"]:\n",
        "    for j in i:\n",
        "        genresall.append(j)\n",
        "\n",
        "genresall = encode(genres, genresall)\n",
        "top7all = sorted(genresall, key=genresall.get, reverse=True)[:7]\n",
        "\n",
        "# craeting the bar charts for the order of occurance\n",
        "fig = plt.figure(constrained_layout=True)\n",
        "f = fig.subplots(3, 1, sharey=False, squeeze=False)\n",
        "\n",
        "plt.suptitle('anime genres')\n",
        "f[0,0].bar(top71k, [genres1k[i] for i in top71k])\n",
        "f[1,0].bar(top75k, [genres5k[i] for i in top75k])\n",
        "f[2,0].bar(top7all, [genresall[i] for i in top7all])\n",
        "plt.show()"
      ],
      "execution_count": 14,
      "outputs": [
        {
          "output_type": "display_data",
          "data": {
            "image/png": "[encoded data removed]",
            "text/plain": [
              "<Figure size 432x288 with 3 Axes>"
            ]
          },
          "metadata": {
            "tags": [],
            "needs_background": "light"
          }
        }
      ]
    },
    {
      "cell_type": "markdown",
      "metadata": {
        "id": "21_C-Dgdj498"
      },
      "source": [
        "as you can see, comedy and action are similarly distributed in all of them, however romance and school seem to be very popular, despite fewer being made overall, and conversely alot of kids anime made but it is not as common in the list of most popular. This is not to say thet there are no popular kids anime but rather not many"
      ]
    },
    {
      "cell_type": "markdown",
      "metadata": {
        "id": "18tcvZMwj498"
      },
      "source": [
        "# age ratings"
      ]
    },
    {
      "cell_type": "code",
      "metadata": {
        "colab": {
          "base_uri": "https://localhost:8080/",
          "height": 313
        },
        "id": "jx3J1CbUj498",
        "outputId": "e6279f53-d54f-4346-93e1-97b0d6dd3a15"
      },
      "source": [
        "# similar to genres just small changes as there can only be one per show rather than a list\n",
        "\n",
        "Rating = []\n",
        "\n",
        "for i in animesall[\"Rating\"]:\n",
        "    Rating.append(i)\n",
        "        \n",
        "Rating = list(set(Rating))\n",
        "\n",
        "def encode(rating_list, rating_present):\n",
        "    full = {i:0 for i in rating_list}\n",
        "    for i in rating_present:\n",
        "        full[i] += 1\n",
        "    return full\n",
        "\n",
        "ratings1k = []\n",
        "for i in animes1k[\"Rating\"]:\n",
        "    ratings1k.append(i)\n",
        "ratings1k = encode(Rating, ratings1k)\n",
        "order1k = sorted(ratings1k, key=ratings1k.get, reverse=True)[:4]\n",
        "\n",
        "ratings5k = []\n",
        "for i in animes5k[\"Rating\"]:\n",
        "    ratings5k.append(i)\n",
        "ratings5k = encode(Rating, ratings5k)\n",
        "order5k = sorted(ratings5k, key=ratings5k.get, reverse=True)[:4]\n",
        "\n",
        "ratingsall = []\n",
        "for i in animesall[\"Rating\"]:\n",
        "    ratingsall.append(i)\n",
        "ratingsall = encode(Rating, ratingsall)\n",
        "orderall = sorted(ratingsall, key=ratingsall.get, reverse=True)[:4]\n",
        "\n",
        "fig = plt.figure(constrained_layout=True)\n",
        "f = fig.subplots(3, 1, sharey=False, squeeze=False)\n",
        "\n",
        "plt.rc('ytick', labelsize=7)    # fontsize of the x and y labels\n",
        "plt.rc('xtick', labelsize=7)    # fontsize of the x and y labels\n",
        "\n",
        "\n",
        "plt.suptitle('anime age ratings')\n",
        "f[0,0].bar(order1k, [ratings1k[i] for i in order1k])\n",
        "f[1,0].bar(order5k, [ratings5k[i] for i in order5k])\n",
        "f[2,0].bar(orderall, [ratingsall[i] for i in orderall])\n",
        "plt.show()"
      ],
      "execution_count": 15,
      "outputs": [
        {
          "output_type": "display_data",
          "data": {
            "image/png": "[encoded data removed]",
            "text/plain": [
              "<Figure size 432x288 with 3 Axes>"
            ]
          },
          "metadata": {
            "tags": [],
            "needs_background": "light"
          }
        }
      ]
    },
    {
      "cell_type": "markdown",
      "metadata": {
        "id": "lhPjoZv8j499"
      },
      "source": [
        "This shows that anime rated PG-13 and 17+ are more popular, despite relatively few 17+ beingmade. One theory I have is that is the age when most people watch it and it is likely heavily tied in with the popularity of action anime, which gets age ratings around there. anime rated G is made alot but is not very popular, this is likely due to the lack of violence which does seem common. The same can be said about hentai, however it is not popular likely due to age restriction as well as social stigma."
      ]
    },
    {
      "cell_type": "markdown",
      "metadata": {
        "id": "XOvmOUzdj499"
      },
      "source": [
        "# Type - ie movie, TV etc."
      ]
    },
    {
      "cell_type": "code",
      "metadata": {
        "colab": {
          "base_uri": "https://localhost:8080/",
          "height": 313
        },
        "id": "DCvfZlwyj49-",
        "outputId": "88995908-866d-4b1f-ae05-645a5cf5f6e9"
      },
      "source": [
        "# similar to genres just small changes as there can only be one per show rather than a list\n",
        "type = []\n",
        "\n",
        "for i in animesall[\"Type\"]:\n",
        "    type.append(i)\n",
        "        \n",
        "type = list(set(type))\n",
        "\n",
        "def encode(type_list, type_present):\n",
        "    full = {i:0 for i in type_list}\n",
        "    for i in type_present:\n",
        "        full[i] += 1\n",
        "    return full\n",
        "\n",
        "type1k = []\n",
        "for i in animes1k[\"Type\"]:\n",
        "    type1k.append(i)\n",
        "type1k = encode(type, type1k)\n",
        "order1k = sorted(type1k, key=type1k.get, reverse=True)[:10]\n",
        "\n",
        "type5k = []\n",
        "for i in animes5k[\"Type\"]:\n",
        "    type5k.append(i)\n",
        "type5k = encode(type, type5k)\n",
        "order5k = sorted(type5k, key=type5k.get, reverse=True)[:10]\n",
        "\n",
        "typeall = []\n",
        "for i in animesall[\"Type\"]:\n",
        "    typeall.append(i)\n",
        "typeall = encode(type, typeall)\n",
        "orderall = sorted(typeall, key=typeall.get, reverse=True)[:10]\n",
        "\n",
        "fig = plt.figure(constrained_layout=True)\n",
        "f = fig.subplots(3, 1, sharey=False, squeeze=False)\n",
        "\n",
        "plt.rc('ytick', labelsize=7)    # fontsize of the x and y labels\n",
        "plt.rc('xtick', labelsize=7)    # fontsize of the x and y labels\n",
        "\n",
        "plt.suptitle('anime types')\n",
        "f[0,0].bar(order1k, [type1k[i] for i in order1k])\n",
        "f[1,0].bar(order5k, [type5k[i] for i in order5k])\n",
        "f[2,0].bar(orderall, [typeall[i] for i in orderall])\n",
        "plt.show()"
      ],
      "execution_count": 16,
      "outputs": [
        {
          "output_type": "display_data",
          "data": {
            "image/png": "[encoded data removed]",
            "text/plain": [
              "<Figure size 432x288 with 3 Axes>"
            ]
          },
          "metadata": {
            "tags": [],
            "needs_background": "light"
          }
        }
      ]
    },
    {
      "cell_type": "markdown",
      "metadata": {
        "id": "zihH0SmVj49-"
      },
      "source": [
        "The most commonly made seem to be the most watched with one exception. OVAs are more commonly made than watched. I have a theory as to why this is: they have lower budget than normal movies, meaning lower marketing and as a result lower exposure, as well as this the studio has likely made fewer animes previously"
      ]
    },
    {
      "cell_type": "markdown",
      "metadata": {
        "id": "dvByQDuOj49_"
      },
      "source": [
        "# source / inspiration - where did it come from"
      ]
    },
    {
      "cell_type": "code",
      "metadata": {
        "colab": {
          "base_uri": "https://localhost:8080/",
          "height": 313
        },
        "id": "hVSUpXKij49_",
        "outputId": "d035f3b3-a313-4d27-d719-ad9a6d57dcd9"
      },
      "source": [
        "Source = []\n",
        "\n",
        "for i in animesall[\"Source\"]:\n",
        "    Source.append(i)\n",
        "        \n",
        "Source = list(set(Source))\n",
        "\n",
        "def encode(Source_list, Source_present):\n",
        "    full = {i:0 for i in Source_list}\n",
        "    for i in Source_present:\n",
        "        full[i] += 1\n",
        "    return full\n",
        "\n",
        "Source1k = []\n",
        "for i in animes1k[\"Source\"]:\n",
        "    Source1k.append(i)\n",
        "Source1k = encode(Source, Source1k)\n",
        "order1k = sorted(Source1k, key=Source1k.get, reverse=True)[:7]\n",
        "\n",
        "Source5k = []\n",
        "for i in animes5k[\"Source\"]:\n",
        "    Source5k.append(i)\n",
        "Source5k = encode(Source, Source5k)\n",
        "order5k = sorted(Source5k, key=Source5k.get, reverse=True)[:7]\n",
        "\n",
        "Sourceall = []\n",
        "for i in animesall[\"Source\"]:\n",
        "    Sourceall.append(i)\n",
        "Sourceall = encode(Source, Sourceall)\n",
        "orderall = sorted(Sourceall, key=Sourceall.get, reverse=True)[:7]\n",
        "\n",
        "fig = plt.figure(constrained_layout=True)\n",
        "f = fig.subplots(3, 1, sharey=False, squeeze=False)\n",
        "\n",
        "plt.rc('ytick', labelsize=7)    # fontsize of the x and y labels\n",
        "plt.rc('xtick', labelsize=7)    # fontsize of the x and y labels\n",
        "\n",
        "plt.suptitle('anime types')\n",
        "f[0,0].bar(order1k, [Source1k[i] for i in order1k])\n",
        "f[1,0].bar(order5k, [Source5k[i] for i in order5k])\n",
        "f[2,0].bar(orderall, [Sourceall[i] for i in orderall])\n",
        "plt.show()"
      ],
      "execution_count": 17,
      "outputs": [
        {
          "output_type": "display_data",
          "data": {
            "image/png": "[encoded data removed]",
            "text/plain": [
              "<Figure size 432x288 with 3 Axes>"
            ]
          },
          "metadata": {
            "tags": [],
            "needs_background": "light"
          }
        }
      ]
    },
    {
      "cell_type": "markdown",
      "metadata": {
        "id": "PirUiMo1j49_"
      },
      "source": [
        "animes based on mangas seem to be the most popular, even though it is not the most commonly made, this may be due to the fact that it is already known to have a good story as well as having pre-existing popularity. The same principal can be the cause for novel based animes, and origionals are the easiest to make so they are made most (licensing / maing a novel, game etc is hard), however they are not as popular as there is no pre-existing fanbase of something original"
      ]
    },
    {
      "cell_type": "markdown",
      "metadata": {
        "id": "iUEBgOwcj4-A"
      },
      "source": [
        "# generator for training"
      ]
    },
    {
      "cell_type": "code",
      "metadata": {
        "id": "t8AiZ7Z5j4-A"
      },
      "source": [
        "# this is a generator that \n",
        "def ratings():\n",
        "    user_current = -1\n",
        "    xs = []\n",
        "    ys = []\n",
        "    x = [0 for i in range(len(ids))] # an array of zeros, this is 1000 long and will be filled in with ones if the referenced anime was watched\n",
        "    nums = []\n",
        "    for i in range(len(ratingcsv[\"user_id\"])): # looping over the csv\n",
        "        if ratingcsv[\"anime_id\"][i] in ids: # if the anime is in the top 1000\n",
        "            user = ratingcsv['user_id'][i] # what is the id of the user\n",
        "            if user == user_current: # if the user is the same I will update their history\n",
        "                x[id_to_num[ratingcsv['anime_id'][i]]] = 1\n",
        "                nums.append(id_to_num[ratingcsv['anime_id'][i]])\n",
        "            else: # if it is a new user I will yield the previous one and craete a new one\n",
        "                user_current+=1\n",
        "                for num in nums: # corrupt the users history, I take one out and that is the input. The target is the one that was removed\n",
        "                    temp_y = [0 for i in range(len(ids))]\n",
        "                    temp_x = copy.deepcopy(x) # shallow coppies do not work ):\n",
        "                    \n",
        "                    temp_y[num] = 1\n",
        "                    temp_x[num] = 0\n",
        "                                        \n",
        "                    if temp_y.count(temp_y[0]) != len(temp_y) and temp_x.count(temp_x[0]) != len(temp_x):                                                                    \n",
        "                        ys.append(temp_y)\n",
        "                        xs.append(temp_x)\n",
        "                        \n",
        "                if bool(xs) == True and bool(ys) == True:\n",
        "                    yield np.array([xs, ys]) # only yeild if they have seen 2 or more in the top 1000\n",
        "                xs = [] # restart\n",
        "                ys = []\n",
        "                x = [0 for i in range(len(ids))]\n",
        "                nums = []\n",
        "                x[id_to_num[ratingcsv['anime_id'][i]]] = 1\n",
        "                nums.append(id_to_num[ratingcsv['anime_id'][i]])"
      ],
      "execution_count": 18,
      "outputs": []
    },
    {
      "cell_type": "markdown",
      "metadata": {
        "id": "RjibBUc3j4-B"
      },
      "source": [
        "# model and training"
      ]
    },
    {
      "cell_type": "code",
      "metadata": {
        "colab": {
          "base_uri": "https://localhost:8080/"
        },
        "id": "Zrds3Oyaj4-B",
        "outputId": "9434db1a-eb00-47f6-a6ed-d8126f3c5c87"
      },
      "source": [
        "model = tf.keras.Sequential([ # create a model. It is simple as to have very fast inferance time\n",
        "    tf.keras.layers.Input((1000)),\n",
        "    tf.keras.layers.Embedding(1000, 10),\n",
        "    tf.keras.layers.Dense(32, \"relu\"),\n",
        "    tf.keras.layers.Flatten(),\n",
        "    tf.keras.layers.Dense(1000, \"softmax\")\n",
        "])\n",
        "\n",
        "model.compile(\"adam\", tf.keras.losses.CategoricalCrossentropy(), metrics=[\"categorical_accuracy\"])\n",
        "\n",
        "model.summary()"
      ],
      "execution_count": 19,
      "outputs": [
        {
          "output_type": "stream",
          "text": [
            "WARNING:tensorflow:Please add `keras.layers.InputLayer` instead of `keras.Input` to Sequential model. `keras.Input` is intended to be used by Functional model.\n",
            "Model: \"sequential\"\n",
            "_________________________________________________________________\n",
            "Layer (type)                 Output Shape              Param #   \n",
            "=================================================================\n",
            "embedding (Embedding)        (None, 1000, 10)          10000     \n",
            "_________________________________________________________________\n",
            "dense (Dense)                (None, 1000, 32)          352       \n",
            "_________________________________________________________________\n",
            "flatten (Flatten)            (None, 32000)             0         \n",
            "_________________________________________________________________\n",
            "dense_1 (Dense)              (None, 1000)              32001000  \n",
            "=================================================================\n",
            "Total params: 32,011,352\n",
            "Trainable params: 32,011,352\n",
            "Non-trainable params: 0\n",
            "_________________________________________________________________\n"
          ],
          "name": "stdout"
        }
      ]
    },
    {
      "cell_type": "code",
      "metadata": {
        "id": "B4kj7NF-j4-C",
        "colab": {
          "base_uri": "https://localhost:8080/"
        },
        "outputId": "1c6e6884-8e0a-410e-9ed7-f94deefdcd1a"
      },
      "source": [
        "gen = ratings() \n",
        "\n",
        "# training, this prints the loss and accuracy every 2000 examples and logs it for plots every 250\n",
        "\n",
        "scores = []\n",
        "i = 0\n",
        "\n",
        "for x, y in gen:\n",
        "    if i % 100 == 0:\n",
        "        score = model.train_on_batch(x,y)\n",
        "        scores.append(score)\n",
        "        if i % 2000 == 0:\n",
        "            print(score)\n",
        "    else:\n",
        "        model.train_on_batch(x,y)\n",
        "    if i == 10000: # limited to 10000 because of train time, the model uploaded was about 75000\n",
        "        break\n",
        "    i+=1"
      ],
      "execution_count": 20,
      "outputs": [
        {
          "output_type": "stream",
          "text": [
            "[6.910419940948486, 0.0]\n",
            "[5.924050807952881, 0.06622516363859177]\n",
            "[6.351431846618652, 0.0]\n",
            "[5.916667461395264, 0.04545454680919647]\n",
            "[6.42507791519165, 0.010582010261714458]\n",
            "[5.622898578643799, 0.0]\n"
          ],
          "name": "stdout"
        }
      ]
    },
    {
      "cell_type": "markdown",
      "metadata": {
        "id": "c3jrBO-F9Man"
      },
      "source": [
        "over a larger number of examples the graph is a much clearer upwards trend (even reaching > 60% accuracy). The better model is in the repo"
      ]
    },
    {
      "cell_type": "code",
      "metadata": {
        "id": "7bbc97NTj4-C"
      },
      "source": [
        "loss = []\n",
        "acc = []\n",
        "\n",
        "for i, j in scores:\n",
        "    loss.append(i)\n",
        "    acc.append(j)"
      ],
      "execution_count": 21,
      "outputs": []
    },
    {
      "cell_type": "code",
      "metadata": {
        "id": "BNCpQkuWj4-C",
        "colab": {
          "base_uri": "https://localhost:8080/",
          "height": 261
        },
        "outputId": "db297e99-3399-49ca-a7aa-9378071e407e"
      },
      "source": [
        "plt.plot(loss)\n",
        "plt.ylabel('loss (lower is better)')\n",
        "plt.show()"
      ],
      "execution_count": 22,
      "outputs": [
        {
          "output_type": "display_data",
          "data": {
            "image/png": "[encoded data removed]",
            "text/plain": [
              "<Figure size 432x288 with 1 Axes>"
            ]
          },
          "metadata": {
            "tags": [],
            "needs_background": "light"
          }
        }
      ]
    },
    {
      "cell_type": "code",
      "metadata": {
        "id": "A_qFQwBjj4-D",
        "colab": {
          "base_uri": "https://localhost:8080/",
          "height": 261
        },
        "outputId": "fe7318b0-b46e-45bc-8705-a8d4978e2162"
      },
      "source": [
        "plt.plot(acc)\n",
        "plt.ylabel('accuracy (higher is better)')\n",
        "plt.show()"
      ],
      "execution_count": 23,
      "outputs": [
        {
          "output_type": "display_data",
          "data": {
            "image/png": "[encoded data removed]",
            "text/plain": [
              "<Figure size 432x288 with 1 Axes>"
            ]
          },
          "metadata": {
            "tags": [],
            "needs_background": "light"
          }
        }
      ]
    },
    {
      "cell_type": "code",
      "metadata": {
        "id": "wd9Lwwr8j4-D",
        "colab": {
          "base_uri": "https://localhost:8080/"
        },
        "outputId": "45fa38d1-09e5-416f-b116-f79de2ed6416"
      },
      "source": [
        "# convert to tflite model\n",
        "converter = tf.lite.TFLiteConverter.from_keras_model(model)\n",
        "tflite_model = converter.convert()\n",
        "\n",
        "tflite_models_dir = pathlib.Path(\"./\")\n",
        "tflite_models_dir.mkdir(exist_ok=True, parents=True)\n",
        "\n",
        "tflite_model_file = tflite_models_dir/\"model.tflite\"\n",
        "tflite_model_file.write_bytes(tflite_model)\n",
        "\n",
        "converter.optimizations = [tf.lite.Optimize.DEFAULT]\n",
        "tflite_quant_model = converter.convert()\n",
        "tflite_model_quant_file = tflite_models_dir/\"optimised_model.tflite\"\n",
        "tflite_model_quant_file.write_bytes(tflite_quant_model)"
      ],
      "execution_count": 24,
      "outputs": [
        {
          "output_type": "stream",
          "text": [
            "INFO:tensorflow:Assets written to: /tmp/tmp7c21qvto/assets\n",
            "INFO:tensorflow:Assets written to: /tmp/tmpd6n1_1s3/assets\n"
          ],
          "name": "stdout"
        },
        {
          "output_type": "stream",
          "text": [
            "INFO:tensorflow:Assets written to: /tmp/tmpd6n1_1s3/assets\n"
          ],
          "name": "stderr"
        },
        {
          "output_type": "execute_result",
          "data": {
            "text/plain": [
              "32020160"
            ]
          },
          "metadata": {
            "tags": []
          },
          "execution_count": 24
        }
      ]
    },
    {
      "cell_type": "markdown",
      "metadata": {
        "id": "7J_y9jzEPbJJ"
      },
      "source": [
        "The files used come directly from [this kaggle dataset](https://www.kaggle.com/hernan4444/anime-recommendation-database-2020)"
      ]
    }
  ]
}
